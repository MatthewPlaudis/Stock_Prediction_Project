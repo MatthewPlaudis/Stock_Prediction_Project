{
  "nbformat": 4,
  "nbformat_minor": 0,
  "metadata": {
    "colab": {
      "name": "WSJ_scrape.ipynb",
      "provenance": [],
      "collapsed_sections": [],
      "authorship_tag": "ABX9TyMXf7HxBWamWZayK+mdsmYa",
      "include_colab_link": true
    },
    "kernelspec": {
      "name": "python3",
      "display_name": "Python 3"
    }
  },
  "cells": [
    {
      "cell_type": "markdown",
      "metadata": {
        "id": "view-in-github",
        "colab_type": "text"
      },
      "source": [
        "<a href=\"https://colab.research.google.com/github/MatthewPlaudis/Stock_Prediction_Project/blob/main/WSJ_scrape.ipynb\" target=\"_parent\"><img src=\"https://colab.research.google.com/assets/colab-badge.svg\" alt=\"Open In Colab\"/></a>"
      ]
    },
    {
      "cell_type": "code",
      "metadata": {
        "colab": {
          "base_uri": "https://localhost:8080/"
        },
        "id": "Gu--iDvDFgBV",
        "outputId": "9589b144-dfe7-402a-91e5-57cf6f5421f3"
      },
      "source": [
        "!pip install requests\n",
        "!pip install beautifulsoup4\n",
        "!pip install urllib3"
      ],
      "execution_count": null,
      "outputs": [
        {
          "output_type": "stream",
          "text": [
            "Requirement already satisfied: requests in /usr/local/lib/python3.7/dist-packages (2.23.0)\n",
            "Requirement already satisfied: idna<3,>=2.5 in /usr/local/lib/python3.7/dist-packages (from requests) (2.10)\n",
            "Requirement already satisfied: certifi>=2017.4.17 in /usr/local/lib/python3.7/dist-packages (from requests) (2020.12.5)\n",
            "Requirement already satisfied: urllib3!=1.25.0,!=1.25.1,<1.26,>=1.21.1 in /usr/local/lib/python3.7/dist-packages (from requests) (1.24.3)\n",
            "Requirement already satisfied: chardet<4,>=3.0.2 in /usr/local/lib/python3.7/dist-packages (from requests) (3.0.4)\n",
            "Requirement already satisfied: beautifulsoup4 in /usr/local/lib/python3.7/dist-packages (4.6.3)\n",
            "Requirement already satisfied: urllib3 in /usr/local/lib/python3.7/dist-packages (1.24.3)\n"
          ],
          "name": "stdout"
        }
      ]
    },
    {
      "cell_type": "code",
      "metadata": {
        "id": "4saBkTsLEmpi",
        "colab": {
          "base_uri": "https://localhost:8080/"
        },
        "outputId": "667204fe-9a68-432b-b649-b2a98663a1ca"
      },
      "source": [
        "from urllib.request import Request, urlopen\n",
        "from bs4 import BeautifulSoup as soup\n",
        "import datetime\n",
        "import csv\n",
        "import pandas as pd\n",
        "from google.colab import drive\n",
        "from os import listdir\n",
        "drive.mount('/content/drive')"
      ],
      "execution_count": null,
      "outputs": [
        {
          "output_type": "stream",
          "text": [
            "Drive already mounted at /content/drive; to attempt to forcibly remount, call drive.mount(\"/content/drive\", force_remount=True).\n"
          ],
          "name": "stdout"
        }
      ]
    },
    {
      "cell_type": "code",
      "metadata": {
        "id": "Oy8N0EpK5IsY"
      },
      "source": [
        "indir = \"/content/drive/My Drive/Data\""
      ],
      "execution_count": null,
      "outputs": []
    },
    {
      "cell_type": "code",
      "metadata": {
        "colab": {
          "base_uri": "https://localhost:8080/"
        },
        "id": "5BwbscWq5qKu",
        "outputId": "19710543-d107-4a8d-b053-2288195b9f26"
      },
      "source": [
        "!ls \"/content/drive/My Drive/Data\""
      ],
      "execution_count": null,
      "outputs": [
        {
          "output_type": "stream",
          "text": [
            "'Case 1'  'Case 2'  'Case 3'  'Read me.gdoc'\n"
          ],
          "name": "stdout"
        }
      ]
    },
    {
      "cell_type": "code",
      "metadata": {
        "id": "Kfhyjp9MMv5Y"
      },
      "source": [
        "start_date = datetime.date(2008, 8, 8)\n",
        "end_date = datetime.date(2016, 7, 1)\n",
        "delta = datetime.timedelta(days=1)\n",
        "\n",
        "headlines = []\n",
        "while start_date <= end_date:\n",
        "  print(start_date,'\\n\\n')\n",
        "\n",
        "  \n",
        "  url = 'https://www.wsj.com/news/archive/{}/{}/{}'.format(start_date.year,start_date.month,start_date.day)\n",
        "  headers = {'User-Agent': 'Mozilla/5.0 (X11; Ubuntu; Linux x86_64; rv:80.0) Gecko/20100101 Firefox/80.0'}\n",
        "  soup = BeautifulSoup(requests.get(url, headers=headers).content, 'html.parser')\n",
        "\n",
        "  for article in soup.select('article'):\n",
        "      #print(article.span.text)\n",
        "      #print(article.h2.text)\n",
        "      #print('-' * 80)\n",
        "      headlines.append((start_date, article.h2.text))\n",
        "  start_date += delta"
      ],
      "execution_count": null,
      "outputs": []
    },
    {
      "cell_type": "code",
      "metadata": {
        "colab": {
          "base_uri": "https://localhost:8080/",
          "height": 204
        },
        "id": "R221qrNrFNiu",
        "outputId": "aa30cd30-6ece-4320-b020-2546ef2cc939"
      },
      "source": [
        "df = pd.DataFrame(headlines, columns=['date', 'headline'])\n",
        "df.tail()"
      ],
      "execution_count": null,
      "outputs": [
        {
          "output_type": "execute_result",
          "data": {
            "text/html": [
              "<div>\n",
              "<style scoped>\n",
              "    .dataframe tbody tr th:only-of-type {\n",
              "        vertical-align: middle;\n",
              "    }\n",
              "\n",
              "    .dataframe tbody tr th {\n",
              "        vertical-align: top;\n",
              "    }\n",
              "\n",
              "    .dataframe thead th {\n",
              "        text-align: right;\n",
              "    }\n",
              "</style>\n",
              "<table border=\"1\" class=\"dataframe\">\n",
              "  <thead>\n",
              "    <tr style=\"text-align: right;\">\n",
              "      <th></th>\n",
              "      <th>date</th>\n",
              "      <th>headline</th>\n",
              "    </tr>\n",
              "  </thead>\n",
              "  <tbody>\n",
              "    <tr>\n",
              "      <th>139765</th>\n",
              "      <td>2016-07-01</td>\n",
              "      <td>Credit Suisse, Deutsche Bank Met with Fed’s Ta...</td>\n",
              "    </tr>\n",
              "    <tr>\n",
              "      <th>139766</th>\n",
              "      <td>2016-07-01</td>\n",
              "      <td>God and the Fourth of July</td>\n",
              "    </tr>\n",
              "    <tr>\n",
              "      <th>139767</th>\n",
              "      <td>2016-07-01</td>\n",
              "      <td>Wales Stuns Belgium, Advances to Semifinals of...</td>\n",
              "    </tr>\n",
              "    <tr>\n",
              "      <th>139768</th>\n",
              "      <td>2016-07-01</td>\n",
              "      <td>Amazon’s Alexa Now Lets You Order Tens of Mill...</td>\n",
              "    </tr>\n",
              "    <tr>\n",
              "      <th>139769</th>\n",
              "      <td>2016-07-01</td>\n",
              "      <td>Local Tourism Businesses Rocked by Zerve’s Abr...</td>\n",
              "    </tr>\n",
              "  </tbody>\n",
              "</table>\n",
              "</div>"
            ],
            "text/plain": [
              "              date                                           headline\n",
              "139765  2016-07-01  Credit Suisse, Deutsche Bank Met with Fed’s Ta...\n",
              "139766  2016-07-01                         God and the Fourth of July\n",
              "139767  2016-07-01  Wales Stuns Belgium, Advances to Semifinals of...\n",
              "139768  2016-07-01  Amazon’s Alexa Now Lets You Order Tens of Mill...\n",
              "139769  2016-07-01  Local Tourism Businesses Rocked by Zerve’s Abr..."
            ]
          },
          "metadata": {
            "tags": []
          },
          "execution_count": 107
        }
      ]
    },
    {
      "cell_type": "code",
      "metadata": {
        "id": "_CLjgIErG2iP"
      },
      "source": [
        "df.to_csv('wsj.csv', index=False, encoding='utf-8')"
      ],
      "execution_count": null,
      "outputs": []
    },
    {
      "cell_type": "code",
      "metadata": {
        "id": "cHypjlNKHaHt",
        "colab": {
          "base_uri": "https://localhost:8080/",
          "height": 17
        },
        "outputId": "6c4c1eef-2b8c-42ea-d693-1743e64782b8"
      },
      "source": [
        "from google.colab import files\n",
        "df.to_csv('wsj.csv', index=False, encoding='utf-8')\n",
        "files.download('wsj.csv') "
      ],
      "execution_count": null,
      "outputs": [
        {
          "output_type": "display_data",
          "data": {
            "application/javascript": [
              "\n",
              "    async function download(id, filename, size) {\n",
              "      if (!google.colab.kernel.accessAllowed) {\n",
              "        return;\n",
              "      }\n",
              "      const div = document.createElement('div');\n",
              "      const label = document.createElement('label');\n",
              "      label.textContent = `Downloading \"${filename}\": `;\n",
              "      div.appendChild(label);\n",
              "      const progress = document.createElement('progress');\n",
              "      progress.max = size;\n",
              "      div.appendChild(progress);\n",
              "      document.body.appendChild(div);\n",
              "\n",
              "      const buffers = [];\n",
              "      let downloaded = 0;\n",
              "\n",
              "      const channel = await google.colab.kernel.comms.open(id);\n",
              "      // Send a message to notify the kernel that we're ready.\n",
              "      channel.send({})\n",
              "\n",
              "      for await (const message of channel.messages) {\n",
              "        // Send a message to notify the kernel that we're ready.\n",
              "        channel.send({})\n",
              "        if (message.buffers) {\n",
              "          for (const buffer of message.buffers) {\n",
              "            buffers.push(buffer);\n",
              "            downloaded += buffer.byteLength;\n",
              "            progress.value = downloaded;\n",
              "          }\n",
              "        }\n",
              "      }\n",
              "      const blob = new Blob(buffers, {type: 'application/binary'});\n",
              "      const a = document.createElement('a');\n",
              "      a.href = window.URL.createObjectURL(blob);\n",
              "      a.download = filename;\n",
              "      div.appendChild(a);\n",
              "      a.click();\n",
              "      div.remove();\n",
              "    }\n",
              "  "
            ],
            "text/plain": [
              "<IPython.core.display.Javascript object>"
            ]
          },
          "metadata": {
            "tags": []
          }
        },
        {
          "output_type": "display_data",
          "data": {
            "application/javascript": [
              "download(\"download_e44c026f-045b-470b-af81-af5e09c6449b\", \"wsj.csv\", 6959759)"
            ],
            "text/plain": [
              "<IPython.core.display.Javascript object>"
            ]
          },
          "metadata": {
            "tags": []
          }
        }
      ]
    }
  ]
}